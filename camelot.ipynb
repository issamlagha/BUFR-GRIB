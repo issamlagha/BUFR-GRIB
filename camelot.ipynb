{
 "cells": [
  {
   "cell_type": "code",
   "execution_count": 1,
   "id": "f1f77fd5-8854-4e3a-92ad-26c7d686cbb0",
   "metadata": {},
   "outputs": [],
   "source": [
    "pdf_file_path = \"/home/lagha/Téléchargements/CCCC.pdf\"\n",
    "output_file_path = \"CCCC.xlsx\""
   ]
  },
  {
   "cell_type": "code",
   "execution_count": 2,
   "id": "8f721943-ee46-4a70-85f7-47d5cec21f44",
   "metadata": {},
   "outputs": [
    {
     "data": {
      "text/plain": [
       "'libgs.so.9'"
      ]
     },
     "execution_count": 2,
     "metadata": {},
     "output_type": "execute_result"
    }
   ],
   "source": [
    "from ctypes.util import find_library\n",
    "find_library(\"gs\")"
   ]
  },
  {
   "cell_type": "code",
   "execution_count": 3,
   "id": "b72dc231-d63e-48ba-891d-f9ad2f5050a8",
   "metadata": {},
   "outputs": [],
   "source": [
    "import ctypes\n",
    "from ctypes.util import find_library\n",
    "find_library(\"\".join((\"gsdll\", str(ctypes.sizeof(ctypes.c_voidp) * 8), \".dll\")))"
   ]
  },
  {
   "cell_type": "code",
   "execution_count": 4,
   "id": "6580468b-817a-478f-a2a5-cd656b06dbba",
   "metadata": {},
   "outputs": [],
   "source": [
    "import tkinter"
   ]
  },
  {
   "cell_type": "code",
   "execution_count": null,
   "id": "363202d5-3a6b-41ea-8d66-ec2e965b3890",
   "metadata": {},
   "outputs": [],
   "source": []
  }
 ],
 "metadata": {
  "kernelspec": {
   "display_name": "Python 3 (ipykernel)",
   "language": "python",
   "name": "python3"
  },
  "language_info": {
   "codemirror_mode": {
    "name": "ipython",
    "version": 3
   },
   "file_extension": ".py",
   "mimetype": "text/x-python",
   "name": "python",
   "nbconvert_exporter": "python",
   "pygments_lexer": "ipython3",
   "version": "3.10.12"
  }
 },
 "nbformat": 4,
 "nbformat_minor": 5
}
