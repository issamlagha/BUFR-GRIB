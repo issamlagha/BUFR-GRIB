{
 "cells": [
  {
   "cell_type": "code",
   "execution_count": null,
   "id": "b43f1752-0d6e-4aba-956d-9a19d9fcd14a",
   "metadata": {},
   "outputs": [
    {
     "name": "stdout",
     "output_type": "stream",
     "text": [
      "Channels:\n",
      " - conda-forge\n",
      " - defaults\n",
      " - dja001\n",
      "Platform: linux-64\n",
      "Collecting package metadata (repodata.json): / "
     ]
    }
   ],
   "source": [
    "!conda install pygrib"
   ]
  },
  {
   "cell_type": "code",
   "execution_count": 1,
   "id": "13302abf-3377-4d9d-beaa-1218921315d8",
   "metadata": {},
   "outputs": [],
   "source": [
    "import os\n",
    "import pygrib"
   ]
  },
  {
   "cell_type": "code",
   "execution_count": 3,
   "id": "50ffb4fb-424c-47cd-b75d-0e64cfb70b43",
   "metadata": {},
   "outputs": [
    {
     "name": "stdout",
     "output_type": "stream",
     "text": [
      "/home/lagha/data/bufr\n"
     ]
    }
   ],
   "source": [
    "os.chdir(\"/home/lagha/data/bufr\")\n",
    "print(os.getcwd())"
   ]
  },
  {
   "cell_type": "code",
   "execution_count": 7,
   "id": "79f6039e-a9d1-4b1a-b8ce-52287f3e9c68",
   "metadata": {},
   "outputs": [],
   "source": [
    "path = ('gfs.t00z.pgrb2full.0p50.f000')"
   ]
  },
  {
   "cell_type": "code",
   "execution_count": null,
   "id": "cbf55270-997c-437e-a7bb-87fdec4667ce",
   "metadata": {},
   "outputs": [],
   "source": []
  }
 ],
 "metadata": {
  "kernelspec": {
   "display_name": "Python 3 (ipykernel)",
   "language": "python",
   "name": "python3"
  },
  "language_info": {
   "codemirror_mode": {
    "name": "ipython",
    "version": 3
   },
   "file_extension": ".py",
   "mimetype": "text/x-python",
   "name": "python",
   "nbconvert_exporter": "python",
   "pygments_lexer": "ipython3",
   "version": "3.12.2"
  }
 },
 "nbformat": 4,
 "nbformat_minor": 5
}
